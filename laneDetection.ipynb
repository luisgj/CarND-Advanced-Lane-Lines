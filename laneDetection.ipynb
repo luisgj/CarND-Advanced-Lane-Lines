{
 "cells": [
  {
   "cell_type": "markdown",
   "metadata": {},
   "source": [
    "# Advanced Lane finding\n",
    "\n",
    "Attempts a processing pipeline to extract lane lines using perspective transforms, curvature measurement and edge extraction to create binary thresholds."
   ]
  },
  {
   "cell_type": "markdown",
   "metadata": {},
   "source": [
    "## Part 1 - Test with images\n",
    "\n",
    "Abstracted into two parts: image and object point collection and camera calibration.\n",
    "The interesting thing is that the camera calibration needs to be done only once. So we need to take that into account when building the pipeline.\n",
    "\n",
    "----"
   ]
  },
  {
   "cell_type": "code",
   "execution_count": null,
   "metadata": {},
   "outputs": [],
   "source": [
    "import matplotlib.pyplot as plt\n",
    "import matplotlib.image as mpimg\n",
    "import glob\n",
    "\n",
    "from pre_processing.calibration import (\n",
    "    points_collector,\n",
    "    calibrate_camera,\n",
    "    undistort,\n",
    ")\n",
    "imgPoints, objPoints = points_collector()\n",
    "\n",
    "images = glob.glob('test_images/*.jpg')\n",
    "for file in images:\n",
    "    img = mpimg.imread(file)\n",
    "    ret, mtx, dist, _, _ = calibrate_camera(img.shape[1:], imgPoints, objPoints)\n",
    "    destImage = undistort(img, dist, mtx)"
   ]
  },
  {
   "cell_type": "code",
   "execution_count": null,
   "metadata": {},
   "outputs": [],
   "source": []
  },
  {
   "cell_type": "code",
   "execution_count": null,
   "metadata": {},
   "outputs": [],
   "source": []
  }
 ],
 "metadata": {
  "kernelspec": {
   "display_name": "Python 3",
   "language": "python",
   "name": "python3"
  },
  "language_info": {
   "codemirror_mode": {
    "name": "ipython",
    "version": 3
   },
   "file_extension": ".py",
   "mimetype": "text/x-python",
   "name": "python",
   "nbconvert_exporter": "python",
   "pygments_lexer": "ipython3",
   "version": "3.5.2"
  },
  "widgets": {
   "state": {},
   "version": "1.1.2"
  }
 },
 "nbformat": 4,
 "nbformat_minor": 2
}
